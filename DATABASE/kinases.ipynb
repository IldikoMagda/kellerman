{
 "cells": [
  {
   "cell_type": "code",
   "execution_count": null,
   "metadata": {},
   "outputs": [],
   "source": [
    "url = 'https://www.uniprot.org/uniprot/P31749.txt'\n",
    "web = urllib.urlopen(url).read()\n",
    "sep = web.split(\";\")\n",
    "\n",
    "gg = sep[0]\n",
    "tt = gg.split(\" \")[3]\n",
    "split = tt.split(\"_\")[0]\n",
    "\n",
    "print split"
   ]
  },
  {
   "cell_type": "code",
   "execution_count": null,
   "metadata": {},
   "outputs": [],
   "source": [
    "newlist = []\n",
    "counter = 0\n",
    "for index, row in new1.iterrows():\n",
    "    counter += 1\n",
    "    accession = row[\"PROTEIN_ACCESSION\"]\n",
    "    url = \"https://www.uniprot.org/uniprot/\" + accession + \".txt\"\n",
    "    web = urllib.urlopen(url).read()\n",
    "    sep = web.split(\";\")\n",
    "    gg = sep[0]\n",
    "    tt = gg.split(\" \")[3]\n",
    "    split = tt.split(\"_\")[0]\n",
    "    print split \n",
    "    print counter\n",
    "    newlist.append(split)\n",
    "\n",
    "new1[\"KINASE_NAME\"] = [newlist]"
   ]
  },
  {
   "cell_type": "code",
   "execution_count": null,
   "metadata": {},
   "outputs": [],
   "source": [
    "url = 'https://www.uniprot.org/uniprot/?query=AKT1_HUMAN&columns=feature(MODIFIED_RESIDUE),&format=tab'\n",
    "web = urllib.urlopen(url).read()\n",
    "web.split(\"\\t\")\n",
    "string = str(web)\n",
    "print string"
   ]
  },
  {
   "cell_type": "code",
   "execution_count": null,
   "metadata": {},
   "outputs": [],
   "source": [
    "mylist = []\n",
    "mylist2 = []\n",
    "ex = pd.read_excel('example_db/Table S1.xls')\n",
    "\n",
    "ex.drop('Pseudogene?', axis=1, inplace=True)\n",
    "ex.drop('cDNA', axis=1, inplace=True)\n",
    "ex.drop('Novelty', axis=1, inplace=True)\n",
    "\n",
    "ex1 = ex.iloc[:624,:]\n",
    "\n",
    "ex1['Inhibitors'] = 'test'\n",
    "ex1['Phopsphosites'] = 'test'\n",
    "\n",
    "ex2 = ex1.iloc[:,0]\n",
    "\n",
    "for x in ex2:\n",
    "    if x not in mylist:\n",
    "        mylist.append(x)\n",
    "for e in mylist:\n",
    "    a = e.upper()\n",
    "    uniprot = a + \"_HUMAN\"\n",
    "    mylist2.append(uniprot)\n",
    "\n",
    "for g in mylist2:"
   ]
  }
 ],
 "metadata": {
  "kernelspec": {
   "display_name": "Python 2",
   "language": "python",
   "name": "python2"
  },
  "language_info": {
   "codemirror_mode": {
    "name": "ipython",
    "version": 2
   },
   "file_extension": ".py",
   "mimetype": "text/x-python",
   "name": "python",
   "nbconvert_exporter": "python",
   "pygments_lexer": "ipython2",
   "version": "2.7.15"
  }
 },
 "nbformat": 4,
 "nbformat_minor": 2
}
