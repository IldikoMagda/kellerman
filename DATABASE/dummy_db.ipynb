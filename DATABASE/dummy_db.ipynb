{
 "cells": [
  {
   "cell_type": "code",
   "execution_count": 2,
   "metadata": {},
   "outputs": [],
   "source": [
    "import pandas as pd"
   ]
  },
  {
   "cell_type": "code",
   "execution_count": 4,
   "metadata": {},
   "outputs": [
    {
     "data": {
      "text/html": [
       "<div>\n",
       "<style scoped>\n",
       "    .dataframe tbody tr th:only-of-type {\n",
       "        vertical-align: middle;\n",
       "    }\n",
       "\n",
       "    .dataframe tbody tr th {\n",
       "        vertical-align: top;\n",
       "    }\n",
       "\n",
       "    .dataframe thead th {\n",
       "        text-align: right;\n",
       "    }\n",
       "</style>\n",
       "<table border=\"1\" class=\"dataframe\">\n",
       "  <thead>\n",
       "    <tr style=\"text-align: right;\">\n",
       "      <th></th>\n",
       "      <th>Kinase Name</th>\n",
       "      <th>Gene Symbol</th>\n",
       "      <th>Family</th>\n",
       "      <th>Subcellular Location</th>\n",
       "    </tr>\n",
       "  </thead>\n",
       "  <tbody>\n",
       "    <tr>\n",
       "      <th>0</th>\n",
       "      <td>Epidermal growth factor receptor</td>\n",
       "      <td>EGFR</td>\n",
       "      <td>TK</td>\n",
       "      <td>Plasma membrane, Golgi apparatus, Endoplasmic ...</td>\n",
       "    </tr>\n",
       "    <tr>\n",
       "      <th>1</th>\n",
       "      <td>RAC-alpha serine/threonine-protein kinase</td>\n",
       "      <td>AKT1</td>\n",
       "      <td>AGC</td>\n",
       "      <td>Nucleus, Plasma membrane</td>\n",
       "    </tr>\n",
       "    <tr>\n",
       "      <th>2</th>\n",
       "      <td>Prokineticin receptor 1</td>\n",
       "      <td>PROKR1</td>\n",
       "      <td>Other</td>\n",
       "      <td>Plasma membrane</td>\n",
       "    </tr>\n",
       "  </tbody>\n",
       "</table>\n",
       "</div>"
      ],
      "text/plain": [
       "                                 Kinase Name Gene Symbol Family  \\\n",
       "0           Epidermal growth factor receptor        EGFR     TK   \n",
       "1  RAC-alpha serine/threonine-protein kinase        AKT1    AGC   \n",
       "2                    Prokineticin receptor 1      PROKR1  Other   \n",
       "\n",
       "                                Subcellular Location  \n",
       "0  Plasma membrane, Golgi apparatus, Endoplasmic ...  \n",
       "1                           Nucleus, Plasma membrane  \n",
       "2                                    Plasma membrane  "
      ]
     },
     "execution_count": 4,
     "metadata": {},
     "output_type": "execute_result"
    }
   ],
   "source": [
    "d = {\"Kinase Name\":[\"Epidermal growth factor receptor\", \"RAC-alpha serine/threonine-protein kinase\", \"Prokineticin receptor 1\"],\n",
    "     \"Gene Symbol\":[\"EGFR\", \"AKT1\", \"PROKR1\"],\n",
    "     \"Family\":[\"TK\", \"AGC\", \"Other\"],\n",
    "     \"Subcellular Location\":[\"Plasma membrane, Golgi apparatus, Endoplasmic reticulum, Nucleus, Plasma membrane\", \"Nucleus, Plasma membrane\", \"Plasma membrane\"]}\n",
    "df = pd.DataFrame(data=d)\n",
    "df = df[['Kinase Name', 'Gene Symbol', 'Family', 'Subcellular Location']]\n",
    "\n",
    "df"
   ]
  },
  {
   "cell_type": "code",
   "execution_count": 5,
   "metadata": {},
   "outputs": [
    {
     "data": {
      "text/html": [
       "<div>\n",
       "<style scoped>\n",
       "    .dataframe tbody tr th:only-of-type {\n",
       "        vertical-align: middle;\n",
       "    }\n",
       "\n",
       "    .dataframe tbody tr th {\n",
       "        vertical-align: top;\n",
       "    }\n",
       "\n",
       "    .dataframe thead th {\n",
       "        text-align: right;\n",
       "    }\n",
       "</style>\n",
       "<table border=\"1\" class=\"dataframe\">\n",
       "  <thead>\n",
       "    <tr style=\"text-align: right;\">\n",
       "      <th></th>\n",
       "      <th>Name</th>\n",
       "      <th>Chemical Structure</th>\n",
       "      <th>Kinase Targets</th>\n",
       "    </tr>\n",
       "  </thead>\n",
       "  <tbody>\n",
       "    <tr>\n",
       "      <th>0</th>\n",
       "      <td>A-443654</td>\n",
       "      <td>Unknown</td>\n",
       "      <td>AKT1</td>\n",
       "    </tr>\n",
       "    <tr>\n",
       "      <th>1</th>\n",
       "      <td>Tyrphostin</td>\n",
       "      <td>Unknown</td>\n",
       "      <td>EGFR</td>\n",
       "    </tr>\n",
       "    <tr>\n",
       "      <th>2</th>\n",
       "      <td>2-Aminopurine</td>\n",
       "      <td>Unknown</td>\n",
       "      <td>PKR</td>\n",
       "    </tr>\n",
       "  </tbody>\n",
       "</table>\n",
       "</div>"
      ],
      "text/plain": [
       "            Name Chemical Structure Kinase Targets\n",
       "0       A-443654            Unknown           AKT1\n",
       "1     Tyrphostin            Unknown           EGFR\n",
       "2  2-Aminopurine            Unknown            PKR"
      ]
     },
     "execution_count": 5,
     "metadata": {},
     "output_type": "execute_result"
    }
   ],
   "source": [
    "inh = {\"Name\":[\"A-443654\", \"Tyrphostin\", \"2-Aminopurine\"], \"Chemical Structure\":[\"Unknown\", \"Unknown\", \"Unknown\"], \"Kinase Targets\":[\"AKT1\", \"EGFR\", \"PKR\"]}\n",
    "       \n",
    "inhdf = pd.DataFrame(data=inh)\n",
    "inhdf = inhdf[['Name', 'Chemical Structure', 'Kinase Targets']]\n",
    "\n",
    "inhdf"
   ]
  },
  {
   "cell_type": "code",
   "execution_count": 3,
   "metadata": {},
   "outputs": [
    {
     "data": {
      "text/html": [
       "<div>\n",
       "<style scoped>\n",
       "    .dataframe tbody tr th:only-of-type {\n",
       "        vertical-align: middle;\n",
       "    }\n",
       "\n",
       "    .dataframe tbody tr th {\n",
       "        vertical-align: top;\n",
       "    }\n",
       "\n",
       "    .dataframe thead th {\n",
       "        text-align: right;\n",
       "    }\n",
       "</style>\n",
       "<table border=\"1\" class=\"dataframe\">\n",
       "  <thead>\n",
       "    <tr style=\"text-align: right;\">\n",
       "      <th></th>\n",
       "      <th>Name</th>\n",
       "      <th>Genomic Location</th>\n",
       "      <th>Neighbouring Sequences</th>\n",
       "    </tr>\n",
       "  </thead>\n",
       "  <tbody>\n",
       "    <tr>\n",
       "      <th>0</th>\n",
       "      <td>Annexin A1</td>\n",
       "      <td>Narnia</td>\n",
       "      <td>blah</td>\n",
       "    </tr>\n",
       "    <tr>\n",
       "      <th>1</th>\n",
       "      <td>cAMP-dependent protein kinase inhibitor alpha</td>\n",
       "      <td>Some beach in Portugal</td>\n",
       "      <td>blah</td>\n",
       "    </tr>\n",
       "    <tr>\n",
       "      <th>2</th>\n",
       "      <td>Protein 4.1</td>\n",
       "      <td>Askaban?</td>\n",
       "      <td>blah</td>\n",
       "    </tr>\n",
       "  </tbody>\n",
       "</table>\n",
       "</div>"
      ],
      "text/plain": [
       "                                            Name        Genomic Location  \\\n",
       "0                                     Annexin A1                  Narnia   \n",
       "1  cAMP-dependent protein kinase inhibitor alpha  Some beach in Portugal   \n",
       "2                                    Protein 4.1                Askaban?   \n",
       "\n",
       "  Neighbouring Sequences  \n",
       "0                   blah  \n",
       "1                   blah  \n",
       "2                   blah  "
      ]
     },
     "execution_count": 3,
     "metadata": {},
     "output_type": "execute_result"
    }
   ],
   "source": [
    "sites = {\"Name\": [\"Annexin A1\", \"cAMP-dependent protein kinase inhibitor alpha\", \"Protein 4.1\"], \"Genomic Location\": [\"Narnia\", \"Some beach in Portugal\", \"Askaban?\"], \"Neighbouring Sequences\": [\"blah\", \"blah\", \"blah\"]}\n",
    "\n",
    "sitesdf = pd.DataFrame(data=sites)\n",
    "sitesdf = sitesdf[[\"Name\", \"Genomic Location\", \"Neighbouring Sequences\"]]\n",
    "\n",
    "sitesdf"
   ]
  }
 ],
 "metadata": {
  "kernelspec": {
   "display_name": "Python 2",
   "language": "python",
   "name": "python2"
  },
  "language_info": {
   "codemirror_mode": {
    "name": "ipython",
    "version": 2
   },
   "file_extension": ".py",
   "mimetype": "text/x-python",
   "name": "python",
   "nbconvert_exporter": "python",
   "pygments_lexer": "ipython2",
   "version": "2.7.15"
  }
 },
 "nbformat": 4,
 "nbformat_minor": 2
}
