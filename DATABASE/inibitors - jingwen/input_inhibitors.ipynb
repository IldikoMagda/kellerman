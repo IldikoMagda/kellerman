{
 "cells": [
  {
   "cell_type": "code",
   "execution_count": 3,
   "metadata": {},
   "outputs": [],
   "source": [
    "import pandas as pd"
   ]
  },
  {
   "cell_type": "code",
   "execution_count": 4,
   "metadata": {},
   "outputs": [],
   "source": [
    "#read file, get the columns needed\n",
    "Inhibitor_df=pd.read_csv(\"inhibitors_checked.csv\",index_col=0,usecols=[0,1,2,3,13])"
   ]
  },
  {
   "cell_type": "code",
   "execution_count": 5,
   "metadata": {
    "scrolled": true
   },
   "outputs": [
    {
     "data": {
      "text/html": [
       "<div>\n",
       "<style scoped>\n",
       "    .dataframe tbody tr th:only-of-type {\n",
       "        vertical-align: middle;\n",
       "    }\n",
       "\n",
       "    .dataframe tbody tr th {\n",
       "        vertical-align: top;\n",
       "    }\n",
       "\n",
       "    .dataframe thead th {\n",
       "        text-align: right;\n",
       "    }\n",
       "</style>\n",
       "<table border=\"1\" class=\"dataframe\">\n",
       "  <thead>\n",
       "    <tr style=\"text-align: right;\">\n",
       "      <th></th>\n",
       "      <th>inhibitor_name</th>\n",
       "      <th>chemical_structure</th>\n",
       "      <th>molecular_weight</th>\n",
       "      <th>SMILES</th>\n",
       "    </tr>\n",
       "    <tr>\n",
       "      <th>CNumber</th>\n",
       "      <th></th>\n",
       "      <th></th>\n",
       "      <th></th>\n",
       "      <th></th>\n",
       "    </tr>\n",
       "  </thead>\n",
       "  <tbody>\n",
       "    <tr>\n",
       "      <th>177</th>\n",
       "      <td>(5Z)-7-Oxozeaenol</td>\n",
       "      <td>C19H22O7</td>\n",
       "      <td>362.37</td>\n",
       "      <td>CC1CC=CC(=O)C(C(CC=CC2=CC(=CC(=C2C(=O)O1)O)OC)O)O</td>\n",
       "    </tr>\n",
       "    <tr>\n",
       "      <th>2</th>\n",
       "      <td>1 NA-PP1 (PP1 Analog)</td>\n",
       "      <td>C19H19N5</td>\n",
       "      <td>317.4</td>\n",
       "      <td>CC(C)(C)N1C2=C(C(=N1)C3=CC=CC4=CC=CC=C43)C(=NC...</td>\n",
       "    </tr>\n",
       "    <tr>\n",
       "      <th>3</th>\n",
       "      <td>1 NM-PP1 (PP1 Analog II)</td>\n",
       "      <td>C20H21N5</td>\n",
       "      <td>331.4</td>\n",
       "      <td>CC(C)(C)N1C2=C(C(=N1)CC3=CC=CC4=CC=CC=C43)C(=N...</td>\n",
       "    </tr>\n",
       "    <tr>\n",
       "      <th>293</th>\n",
       "      <td>2-Aminopurine</td>\n",
       "      <td>C5H5N5</td>\n",
       "      <td>135.1267</td>\n",
       "      <td>C1=C2C(=NC(=N1)N)N=CN2</td>\n",
       "    </tr>\n",
       "    <tr>\n",
       "      <th>5</th>\n",
       "      <td>A-443654</td>\n",
       "      <td>C24H23ON5 · 2HCl</td>\n",
       "      <td>470.39</td>\n",
       "      <td>CC1=C2C=C(C=CC2=NN1)C3=CC(=CN=C3)OCC(CC4=CNC5=...</td>\n",
       "    </tr>\n",
       "  </tbody>\n",
       "</table>\n",
       "</div>"
      ],
      "text/plain": [
       "                   inhibitor_name chemical_structure molecular_weight  \\\n",
       "CNumber                                                                 \n",
       "177             (5Z)-7-Oxozeaenol           C19H22O7           362.37   \n",
       "2           1 NA-PP1 (PP1 Analog)           C19H19N5            317.4   \n",
       "3        1 NM-PP1 (PP1 Analog II)           C20H21N5            331.4   \n",
       "293                 2-Aminopurine             C5H5N5         135.1267   \n",
       "5                        A-443654   C24H23ON5 · 2HCl           470.39   \n",
       "\n",
       "                                                    SMILES  \n",
       "CNumber                                                     \n",
       "177      CC1CC=CC(=O)C(C(CC=CC2=CC(=CC(=C2C(=O)O1)O)OC)O)O  \n",
       "2        CC(C)(C)N1C2=C(C(=N1)C3=CC=CC4=CC=CC=C43)C(=NC...  \n",
       "3        CC(C)(C)N1C2=C(C(=N1)CC3=CC=CC4=CC=CC=C43)C(=N...  \n",
       "293                                 C1=C2C(=NC(=N1)N)N=CN2  \n",
       "5        CC1=C2C=C(C=CC2=NN1)C3=CC(=CN=C3)OCC(CC4=CNC5=...  "
      ]
     },
     "execution_count": 5,
     "metadata": {},
     "output_type": "execute_result"
    }
   ],
   "source": [
    "#check protein data frame\n",
    "Inhibitor_df.head()"
   ]
  },
  {
   "cell_type": "code",
   "execution_count": null,
   "metadata": {},
   "outputs": [],
   "source": []
  }
 ],
 "metadata": {
  "kernelspec": {
   "display_name": "python2.7",
   "language": "python",
   "name": "python2_7"
  },
  "language_info": {
   "codemirror_mode": {
    "name": "ipython",
    "version": 2
   },
   "file_extension": ".py",
   "mimetype": "text/x-python",
   "name": "python",
   "nbconvert_exporter": "python",
   "pygments_lexer": "ipython2",
   "version": "2.7.15"
  }
 },
 "nbformat": 4,
 "nbformat_minor": 2
}
