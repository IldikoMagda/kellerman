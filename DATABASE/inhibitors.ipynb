{
 "cells": [
  {
   "cell_type": "code",
   "execution_count": null,
   "metadata": {},
   "outputs": [],
   "source": [
    "new = inh[[\"COMPOUND_KEY\", \"PROTEIN_ACCESSION\"]]\n",
    "\n",
    "new1 = new.dropna()\n",
    "\n",
    "new1[\"STRUCTURE\"] = pd.Series([3])\n",
    "new1[\"KINASE_NAME\"] = np.nan\n",
    "\n",
    "new1"
   ]
  },
  {
   "cell_type": "code",
   "execution_count": null,
   "metadata": {},
   "outputs": [],
   "source": [
    "inh = pd.read_excel('inhibitors-1.xlsx')"
   ]
  },
  {
   "cell_type": "code",
   "execution_count": null,
   "metadata": {},
   "outputs": [],
   "source": [
    "inh = pd.read_excel('inhibitors.xlsx')\n",
    "\n",
    "inh1 = inh[['Inhibitor','Action']]\n",
    "\n",
    "inh1 = inh1.rename(columns={'Action': 'Kinase Target'})\n",
    "inh1[\"Structure\"] = np.nan\n",
    "\n",
    "inh1"
   ]
  }
 ],
 "metadata": {
  "kernelspec": {
   "display_name": "Python 2",
   "language": "python",
   "name": "python2"
  },
  "language_info": {
   "codemirror_mode": {
    "name": "ipython",
    "version": 2
   },
   "file_extension": ".py",
   "mimetype": "text/x-python",
   "name": "python",
   "nbconvert_exporter": "python",
   "pygments_lexer": "ipython2",
   "version": "2.7.15"
  }
 },
 "nbformat": 4,
 "nbformat_minor": 2
}
