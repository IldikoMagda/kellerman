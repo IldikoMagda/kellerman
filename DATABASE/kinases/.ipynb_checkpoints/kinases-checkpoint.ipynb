{
 "cells": [
  {
   "cell_type": "code",
   "execution_count": null,
   "metadata": {},
   "outputs": [],
   "source": [
    "import urllib\n",
    "import csv\n",
    "from six.moves.urllib.request import urlopen"
   ]
  },
  {
   "cell_type": "code",
   "execution_count": null,
   "metadata": {},
   "outputs": [],
   "source": [
    "filelist = []\n",
    "\n",
    "with open(\"known_kinases.csv\", \"rb\") as f: # opens our kinase file \n",
    "    reader = csv.reader(f)\n",
    "    for row in reader:\n",
    "            filelist.append(row) # appends it all into a list \n"
   ]
  },
  {
   "cell_type": "code",
   "execution_count": null,
   "metadata": {},
   "outputs": [],
   "source": [
    "firstline = []\n",
    "\n",
    "for t in filelist[1:]: # indexes through list and skips the header \n",
    "    ID = t[1] # uniprot ID\n",
    "    gene = t[0] # Gene symbol \n",
    "    url = \"https://www.uniprot.org/uniprot/?query=\" + ID + \\\n",
    "    \"&sort=score&columns=comment(SUBCELLULAR LOCATION)&format=tab\" # sets the URL with the idetifier asa variable \n",
    "    web = urllib.urlopen(url).read() # reads webpage \n",
    "    if \"SUBCELLULAR LOCATION: \" in web: # finds if the page contains the information we need \n",
    "        temp = web.split(\"SUBCELLULAR LOCATION: \")[1] # separates the information and indexes what we need \n",
    "        temp2 = temp.split(\" {ECO:\")[0] # separates the information further, to make it easier to grab the data \n",
    "        location = temp2 # this is the information that we need \n",
    "    else:\n",
    "        location = \"X\" # appends an X if the information does not exist \n",
    "    line = gene + \"\\t\" + ID + \"\\t\" + t[2] + \"\\t\" + t[3] + \"\\t\" + t[4] + \"\\t\" + t[5] + \"\\t\" + t[6] \\\n",
    "    + \"\\t\" + t[7] + \"\\t\" + t[8] + \"\\t\" + location + \"\\n\" # creates the new line \n",
    "    firstline.append(line) # the lines are appended into a list \n"
   ]
  },
  {
   "cell_type": "code",
   "execution_count": null,
   "metadata": {},
   "outputs": [],
   "source": [
    "f = open(\"kinase_final.tsv\", 'w') # creates new csv file \n",
    "header = \"GENE_NAME\" + \"\\t\" + \"UNIPROT_ID\" + \"\\t\" + \"ACCESSION_ID\" + \"\\t\" + \"GROUP\" + \"\\t\" + \"FAMILY\" + \"\\t\" \\\n",
    "+ \"SUBFAMILY\" + \"\\t\" + \"ENTREZ_ID\"  + \"\\t\" + \"CHROMOSOME\" + \"\\t\" + \"CHROMOSOMAL_LOC\" + \"\\t\" + \"SUBCELLULAR_LOC\"  + \"\\n\"\n",
    "f.write(header) # writes the header above into the file \n",
    "\n",
    "for x in firstline:\n",
    "    f.write(x)# writes all the lines into file \n",
    "    \n",
    "f.close() # closes file \n"
   ]
  }
 ],
 "metadata": {
  "kernelspec": {
   "display_name": "Python 2",
   "language": "python",
   "name": "python2"
  },
  "language_info": {
   "codemirror_mode": {
    "name": "ipython",
    "version": 2
   },
   "file_extension": ".py",
   "mimetype": "text/x-python",
   "name": "python",
   "nbconvert_exporter": "python",
   "pygments_lexer": "ipython2",
   "version": "2.7.15"
  }
 },
 "nbformat": 4,
 "nbformat_minor": 2
}
